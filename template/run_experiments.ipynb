{
 "cells": [
  {
   "cell_type": "markdown",
   "metadata": {},
   "source": [
    "# Project 1 – Decision Trees and Random Forests"
   ]
  },
  {
   "cell_type": "code",
   "execution_count": 275,
   "metadata": {},
   "outputs": [
    {
     "name": "stdout",
     "output_type": "stream",
     "text": [
      "The autoreload extension is already loaded. To reload it, use:\n",
      "  %reload_ext autoreload\n"
     ]
    }
   ],
   "source": [
    "# Reload all modules without having to restart the kernel\n",
    "# Useful for development if you have edited any of the external code files.\n",
    "%load_ext autoreload\n",
    "%autoreload 2\n",
    "\n",
    "# Imports\n",
    "import numpy as np\n",
    "from sklearn.model_selection import train_test_split, KFold\n",
    "from sklearn.metrics import accuracy_score\n",
    "from sklearn.tree import DecisionTreeClassifier\n",
    "from sklearn.ensemble import RandomForestClassifier\n",
    "from decision_tree import DecisionTree\n",
    "from random_forest import RandomForest"
   ]
  },
  {
   "cell_type": "markdown",
   "metadata": {},
   "source": [
    "## Dataset (Wine)\n",
    "\n",
    "Do data loading, exploration and preprocessing as you see fit.\n",
    "\n",
    "Here is some code to load the dataset to get you started."
   ]
  },
  {
   "cell_type": "code",
   "execution_count": 276,
   "metadata": {},
   "outputs": [
    {
     "name": "stdout",
     "output_type": "stream",
     "text": [
      "Feature columns names: ['citric_acid', 'residual_sugar', 'pH', 'sulphates', 'alcohol']\n",
      "Target column name: type\n",
      "X shape: (500, 5)\n",
      "y shape: (500,)\n"
     ]
    }
   ],
   "source": [
    "data = np.genfromtxt(\"../wine_dataset_small.csv\", delimiter=\",\", dtype=float, names=True)\n",
    "\n",
    "feature_names = list(data.dtype.names[:-1])\n",
    "target_name = data.dtype.names[-1]\n",
    "\n",
    "X = np.array([data[feature] for feature in feature_names]).T\n",
    "y = data[target_name].astype(int)\n",
    "\n",
    "# Create seed for reproducibility\n",
    "seed = 0\n",
    "np.random.seed(seed)\n",
    "\n",
    "# Print sizes\n",
    "print(f\"Feature columns names: {feature_names}\")\n",
    "print(f\"Target column name: {target_name}\")\n",
    "print(f\"X shape: {X.shape}\")\n",
    "print(f\"y shape: {y.shape}\")"
   ]
  },
  {
   "cell_type": "markdown",
   "metadata": {},
   "source": [
    "Split the data into train and val, and test"
   ]
  },
  {
   "cell_type": "code",
   "execution_count": 277,
   "metadata": {},
   "outputs": [],
   "source": [
    "from sklearn.model_selection import train_test_split\n",
    "\n",
    "# Split the data (use 70% for training and 30% for validation)\n",
    "X_train_and_val, X_test, y_train_and_val, y_test = train_test_split(X, y, test_size=0.3, random_state=seed, shuffle=True)"
   ]
  },
  {
   "cell_type": "markdown",
   "metadata": {},
   "source": [
    "### Kfold\n",
    "Use Kfold with 5 splits"
   ]
  },
  {
   "cell_type": "code",
   "execution_count": 278,
   "metadata": {},
   "outputs": [],
   "source": [
    "from sklearn.model_selection import KFold\n",
    "\n",
    "# Init KFold with 5 splits\n",
    "kf = KFold(n_splits=5, shuffle=True, random_state=seed)"
   ]
  },
  {
   "cell_type": "markdown",
   "metadata": {},
   "source": [
    "### Hyperparameters"
   ]
  },
  {
   "cell_type": "markdown",
   "metadata": {},
   "source": [
    "Define hyperparameter values to test for the model tuning"
   ]
  },
  {
   "cell_type": "code",
   "execution_count": 279,
   "metadata": {},
   "outputs": [],
   "source": [
    "## Hyperparameters\n",
    "criterion_values = [\"gini\", \"entropy\"]\n",
    "\n",
    "# Desicion Tree\n",
    "dt_max_depth_values = [3, 5, 8, 10, 12, 15, None]\n",
    "\n",
    "# Random Forest\n",
    "rf_n_estimators_values = [5]\n",
    "rf_max_depth_values = [3, 5, 10, None]\n",
    "rf_max_features_values = [\"sqrt\", \"log2\", None]"
   ]
  },
  {
   "cell_type": "markdown",
   "metadata": {},
   "source": [
    "### Tuning the models"
   ]
  },
  {
   "cell_type": "markdown",
   "metadata": {},
   "source": [
    "Defining a generic function for tuning both Decision Tree and Random Forest (self & sklearn)"
   ]
  },
  {
   "cell_type": "code",
   "execution_count": 280,
   "metadata": {},
   "outputs": [],
   "source": [
    "def tune_hyperparameters(model_class: DecisionTree | DecisionTreeClassifier | RandomForest | RandomForestClassifier, parameter_grid):\n",
    "    # Seed for deterministic output\n",
    "    np.random.seed(seed)\n",
    "\n",
    "    best_accuracy = 0\n",
    "    best_hyperparameters = {}\n",
    "\n",
    "    for params in parameter_grid:\n",
    "        accuracies = []\n",
    "        \n",
    "        # Perform k-fold cross-validation\n",
    "        for train_index, val_index in kf.split(X_train_and_val):\n",
    "            X_train, X_val = X[train_index], X[val_index]\n",
    "            y_train, y_val = y[train_index], y[val_index]\n",
    "\n",
    "            model = model_class(**params)\n",
    "\n",
    "            # Train the decision tree self (train on root)\n",
    "            if isinstance(model, DecisionTree):\n",
    "                model.root = model.fit(X_train, y_train)\n",
    "            else:\n",
    "                # Train like normal\n",
    "                model.fit(X_train, y_train)\n",
    "                        \n",
    "            # Make predictions on the validation fold\n",
    "            y_pred = model.predict(X_val)\n",
    "            \n",
    "            # Compute accuracy\n",
    "            accuracy = accuracy_score(y_val, y_pred)\n",
    "            accuracies.append(accuracy)\n",
    "        \n",
    "        # Calculate the mean accuracy across all folds\n",
    "        mean_accuracy = np.mean(accuracies)\n",
    "        \n",
    "        # Only keep the best accuracy and hyperparameters\n",
    "        if mean_accuracy > best_accuracy:\n",
    "            best_accuracy = mean_accuracy\n",
    "            best_hyperparameters = params\n",
    "    \n",
    "    return best_hyperparameters, best_accuracy\n"
   ]
  },
  {
   "cell_type": "markdown",
   "metadata": {},
   "source": [
    "Tuning the self made Decision Tree on the validation set to get the optimal hyperparameters"
   ]
  },
  {
   "cell_type": "code",
   "execution_count": 321,
   "metadata": {},
   "outputs": [
    {
     "name": "stdout",
     "output_type": "stream",
     "text": [
      "Best Desicion Tree Accuracy (self): 0.7473991817650497\n",
      "Best Desicion Tree Parameters (self): {'max_depth': 3, 'criterion': 'gini'}\n",
      "\n",
      "Best Desicion Tree Accuracy (sklearn): 0.7682641729982466\n",
      "Best Desicion Tree Parameters (sklearn): {'max_depth': 5, 'criterion': 'entropy'}\n"
     ]
    }
   ],
   "source": [
    "# Tune the Decision Tree\n",
    "dt_param_grid = [{'max_depth': md, 'criterion': c} for md in dt_max_depth_values for c in criterion_values]\n",
    "\n",
    "best_hyperparameters_dt_self, best_accuracy_dt_self = tune_hyperparameters(DecisionTree, dt_param_grid)\n",
    "best_hyperparameters_dt_sklearn, best_accuracy_dt_sklearn = tune_hyperparameters(DecisionTreeClassifier, dt_param_grid)\n",
    "\n",
    "\n",
    "print(f\"Best Desicion Tree Accuracy (self): {best_accuracy_dt_self}\")\n",
    "print(f\"Best Desicion Tree Parameters (self): {best_hyperparameters_dt_self}\")\n",
    "print()\n",
    "print(f\"Best Desicion Tree Accuracy (sklearn): {best_accuracy_dt_sklearn}\")\n",
    "print(f\"Best Desicion Tree Parameters (sklearn): {best_hyperparameters_dt_sklearn}\")"
   ]
  },
  {
   "cell_type": "markdown",
   "metadata": {},
   "source": [
    "Tuning the self made Random Forest on the validation set to get the optimal hyperparameters"
   ]
  },
  {
   "cell_type": "code",
   "execution_count": 282,
   "metadata": {},
   "outputs": [
    {
     "name": "stdout",
     "output_type": "stream",
     "text": [
      "Best Random Forest Accuracy (self): 0.8400000000000001\n",
      "Best Random Forest Parameters (self): {'n_estimators': 5, 'max_depth': None, 'max_features': None, 'criterion': 'entropy'}\n",
      "\n",
      "Best Random Forest Accuracy (sklearn): 0.8514285714285714\n",
      "Best Random Forest Parameters (sklearn): {'n_estimators': 5, 'max_depth': None, 'max_features': 'log2', 'criterion': 'gini'}\n"
     ]
    }
   ],
   "source": [
    "# Tune the Random Forest\n",
    "rf_param_grid = [\n",
    "    {'n_estimators': ne, 'max_depth': md, 'max_features': mf, 'criterion': c} \n",
    "    for ne in rf_n_estimators_values \n",
    "    for md in rf_max_depth_values \n",
    "    for mf in rf_max_features_values \n",
    "    for c in criterion_values\n",
    "]\n",
    "\n",
    "best_hyperparameters_rf_self, best_accuracy_rf_self = tune_hyperparameters(RandomForest, rf_param_grid)\n",
    "best_hyperparameters_rf_sklearn, best_accuracy_rf_sklearn = tune_hyperparameters(RandomForestClassifier, rf_param_grid)\n",
    "\n",
    "print(f\"Best Random Forest Accuracy (self): {best_accuracy_rf_self}\")\n",
    "print(f\"Best Random Forest Parameters (self): {best_hyperparameters_rf_self}\")\n",
    "print()\n",
    "print(f\"Best Random Forest Accuracy (sklearn): {best_accuracy_rf_sklearn}\")\n",
    "print(f\"Best Random Forest Parameters (sklearn): {best_hyperparameters_rf_sklearn}\")"
   ]
  },
  {
   "cell_type": "markdown",
   "metadata": {},
   "source": [
    "Best Random Forest Accuracy (self): 0.8400000000000001\n",
    "\n",
    "Best Random Forest Parameters (self): {'n_estimators': 5, 'max_depth': None, 'max_features': None, 'criterion': 'entropy'}\n",
    "\n",
    "\n",
    "\n",
    "\n",
    "\n"
   ]
  },
  {
   "cell_type": "markdown",
   "metadata": {},
   "source": [
    "### Evaluating the results\n",
    "\n",
    "Defining a generic function for evaluating both Decision Tree and Random Forest (self & sklearn)"
   ]
  },
  {
   "cell_type": "code",
   "execution_count": 322,
   "metadata": {},
   "outputs": [],
   "source": [
    "# Evaluate model function => Train and test the best models\n",
    "def evaluate_model(model_class, params):\n",
    "    model = model_class(**params)\n",
    "    if isinstance(model, DecisionTree):\n",
    "        model.root = model.fit(X_train_and_val, y_train_and_val)\n",
    "    else:\n",
    "        model.fit(X_train_and_val, y_train_and_val)\n",
    "    y_pred = model.predict(X_test)\n",
    "    return accuracy_score(y_test, y_pred)"
   ]
  },
  {
   "cell_type": "markdown",
   "metadata": {},
   "source": [
    "Train RandomForest and DecisionTree to the best hyperparameters, and check the accuracy of the models to the test set"
   ]
  },
  {
   "cell_type": "code",
   "execution_count": 339,
   "metadata": {},
   "outputs": [
    {
     "name": "stdout",
     "output_type": "stream",
     "text": [
      "Test accuracy DT (self): 0.7698412698412699\n",
      "Test accuracy DT (sklearn): 0.8253968253968254\n",
      "Test accuracy RF (self): 0.873015873015873\n",
      "Test accuracy RF (sklearn): 0.8333333333333334\n"
     ]
    }
   ],
   "source": [
    "print(f\"Test accuracy DT (self): {evaluate_model(DecisionTree, best_hyperparameters_dt_self)}\")\n",
    "print(f\"Test accuracy DT (sklearn): {evaluate_model(DecisionTreeClassifier, best_hyperparameters_dt_sklearn)}\")\n",
    "print(f\"Test accuracy RF (self): {evaluate_model(RandomForest, best_hyperparameters_rf_self)}\")\n",
    "print(f\"Test accuracy RF (sklearn): {evaluate_model(RandomForestClassifier, best_hyperparameters_rf_sklearn)}\")\n"
   ]
  },
  {
   "cell_type": "markdown",
   "metadata": {},
   "source": [
    "#### Compare the results of the models"
   ]
  },
  {
   "cell_type": "code",
   "execution_count": 287,
   "metadata": {},
   "outputs": [],
   "source": [
    "def print_comparison_results(best_hyperparameters_dt_self, best_accuracy_dt_self, best_hyperparameters_dt_sklearn, best_accuracy_dt_sklearn, \n",
    "                             best_hyperparameters_rf_self, best_accuracy_rf_self, best_hyperparameters_rf_sklearn, best_accuracy_rf_sklearn,\n",
    "                             ):\n",
    "    \n",
    "    num_equality_signs = 150\n",
    "    \n",
    "    print(\"=\"*num_equality_signs)\n",
    "    print(f\"{'Model':<40}{'Best Hyperparameters':<40}{'CV Accuracy':<15}{'Test Accuracy':<15}\")\n",
    "    print(\"=\"*num_equality_signs)\n",
    "    \n",
    "    # Decision Tree (self)\n",
    "    dt_self_test_acc = evaluate_model(DecisionTree, best_hyperparameters_dt_self)\n",
    "    print(f\"{'Decision Tree (self)':<40}{str(best_hyperparameters_dt_self):<40}{best_accuracy_dt_self:<15.4f}{dt_self_test_acc:<15.4f}\")\n",
    "    print()\n",
    "    \n",
    "    # Decision Tree (sklearn)\n",
    "    dt_sklearn_test_acc = evaluate_model(DecisionTreeClassifier, best_hyperparameters_dt_sklearn)\n",
    "    print(f\"{'Decision Tree (sklearn)':<40}{str(best_hyperparameters_dt_sklearn):<40}{best_accuracy_dt_sklearn:<15.4f}{dt_sklearn_test_acc:<15.4f}\")\n",
    "    print()\n",
    "\n",
    "    # Random Forest (self)\n",
    "    rf_self_test_acc = evaluate_model(RandomForest, best_hyperparameters_rf_self)\n",
    "    print(f\"{'Random Forest (self)':<40}{str(best_hyperparameters_rf_self):<40}{best_accuracy_rf_self:<15.4f}{rf_self_test_acc:<15.4f}\")\n",
    "    print()\n",
    "\n",
    "    # Random Forest (sklearn)\n",
    "    rf_sklearn_test_acc = evaluate_model(RandomForestClassifier, best_hyperparameters_rf_sklearn)\n",
    "    print(f\"{'Random Forest (sklearn)':<40}{str(best_hyperparameters_rf_sklearn):<40}{best_accuracy_rf_sklearn:<15.4f}{rf_sklearn_test_acc:<15.4f}\")\n",
    "    \n",
    "    print(\"=\"*num_equality_signs)"
   ]
  },
  {
   "cell_type": "code",
   "execution_count": 288,
   "metadata": {},
   "outputs": [
    {
     "name": "stdout",
     "output_type": "stream",
     "text": [
      "======================================================================================================================================================\n",
      "Model                                   Best Hyperparameters                    CV Accuracy    Test Accuracy  \n",
      "======================================================================================================================================================\n",
      "Decision Tree (self)                    {'max_depth': 5, 'criterion': 'gini'}   0.7743         0.8000         \n",
      "\n",
      "Decision Tree (sklearn)                 {'max_depth': 12, 'criterion': 'gini'}  0.8429         0.8467         \n",
      "\n",
      "Random Forest (self)                    {'n_estimators': 5, 'max_depth': None, 'max_features': None, 'criterion': 'entropy'}0.8400         0.8267         \n",
      "\n",
      "Random Forest (sklearn)                 {'n_estimators': 5, 'max_depth': None, 'max_features': 'log2', 'criterion': 'gini'}0.8514         0.8733         \n",
      "======================================================================================================================================================\n"
     ]
    }
   ],
   "source": [
    "# Call the print function to compare results\n",
    "print_comparison_results(best_hyperparameters_dt_self, best_accuracy_dt_self, best_hyperparameters_dt_sklearn, best_accuracy_dt_sklearn, \n",
    "                         best_hyperparameters_rf_self, best_accuracy_rf_self, best_hyperparameters_rf_sklearn, best_accuracy_rf_sklearn,\n",
    "                         )"
   ]
  },
  {
   "cell_type": "markdown",
   "metadata": {},
   "source": [
    "### 3.3\n",
    "\n",
    "## Dataset (Coffee)"
   ]
  },
  {
   "cell_type": "code",
   "execution_count": 289,
   "metadata": {},
   "outputs": [
    {
     "name": "stdout",
     "output_type": "stream",
     "text": [
      "Feature columns names: ['Aroma', 'Flavor', 'Aftertaste', 'Acidity', 'Body', 'Balance', 'Uniformity', 'Sweetness']\n",
      "Target column name: CountryofOrigin\n",
      "X shape: (419, 8)\n",
      "y shape: (419,)\n"
     ]
    }
   ],
   "source": [
    "data = np.genfromtxt(\"../coffee_data.csv\", delimiter=\",\", dtype=float, names=True)\n",
    "\n",
    "feature_names = list(data.dtype.names[:-1])\n",
    "target_name = data.dtype.names[-1]\n",
    "\n",
    "X = np.array([data[feature] for feature in feature_names]).T\n",
    "y = data[target_name].astype(int)\n",
    "\n",
    "# Create seed for reproducibility\n",
    "seed = 0\n",
    "np.random.seed(seed)\n",
    "\n",
    "# Print sizes\n",
    "print(f\"Feature columns names: {feature_names}\")\n",
    "print(f\"Target column name: {target_name}\")\n",
    "print(f\"X shape: {X.shape}\")\n",
    "print(f\"y shape: {y.shape}\")"
   ]
  },
  {
   "cell_type": "markdown",
   "metadata": {},
   "source": [
    "Split the data into train and val, and test"
   ]
  },
  {
   "cell_type": "code",
   "execution_count": 290,
   "metadata": {},
   "outputs": [],
   "source": [
    "from sklearn.model_selection import train_test_split\n",
    "\n",
    "# Split the data (use 70% for training and 30% for validation)\n",
    "X_train_and_val, X_test, y_train_and_val, y_test = train_test_split(X, y, test_size=0.3, random_state=seed, shuffle=True)"
   ]
  },
  {
   "cell_type": "markdown",
   "metadata": {},
   "source": [
    "### Tuning the models"
   ]
  },
  {
   "cell_type": "code",
   "execution_count": 291,
   "metadata": {},
   "outputs": [
    {
     "name": "stdout",
     "output_type": "stream",
     "text": [
      "Best Desicion Tree Accuracy (self): 0.7473991817650497\n",
      "Best Desicion Tree Parameters (self): {'max_depth': 3, 'criterion': 'gini'}\n",
      "\n",
      "Best Desicion Tree Accuracy (sklearn): 0.7682641729982466\n",
      "Best Desicion Tree Parameters (sklearn): {'max_depth': 5, 'criterion': 'entropy'}\n"
     ]
    }
   ],
   "source": [
    "# Tune the Decision Tree\n",
    "best_hyperparameters_dt_self, best_accuracy_dt_self = tune_hyperparameters(DecisionTree, dt_param_grid)\n",
    "best_hyperparameters_dt_sklearn, best_accuracy_dt_sklearn = tune_hyperparameters(DecisionTreeClassifier, dt_param_grid)\n",
    "\n",
    "\n",
    "print(f\"Best Desicion Tree Accuracy (self): {best_accuracy_dt_self}\")\n",
    "print(f\"Best Desicion Tree Parameters (self): {best_hyperparameters_dt_self}\")\n",
    "print()\n",
    "print(f\"Best Desicion Tree Accuracy (sklearn): {best_accuracy_dt_sklearn}\")\n",
    "print(f\"Best Desicion Tree Parameters (sklearn): {best_hyperparameters_dt_sklearn}\")"
   ]
  },
  {
   "cell_type": "code",
   "execution_count": 292,
   "metadata": {},
   "outputs": [
    {
     "name": "stdout",
     "output_type": "stream",
     "text": [
      "Best Random Forest Accuracy (self): 0.7646405610753946\n",
      "Best Random Forest Parameters (self): {'n_estimators': 5, 'max_depth': 3, 'max_features': None, 'criterion': 'entropy'}\n",
      "\n",
      "Best Random Forest Accuracy (sklearn): 0.7954412624196376\n",
      "Best Random Forest Parameters (sklearn): {'n_estimators': 5, 'max_depth': 3, 'max_features': None, 'criterion': 'entropy'}\n"
     ]
    }
   ],
   "source": [
    "# Tune the Random Forest\n",
    "best_hyperparameters_rf_self, best_accuracy_rf_self = tune_hyperparameters(RandomForest, rf_param_grid)\n",
    "best_hyperparameters_rf_sklearn, best_accuracy_rf_sklearn = tune_hyperparameters(RandomForestClassifier, rf_param_grid)\n",
    "\n",
    "print(f\"Best Random Forest Accuracy (self): {best_accuracy_rf_self}\")\n",
    "print(f\"Best Random Forest Parameters (self): {best_hyperparameters_rf_self}\")\n",
    "print()\n",
    "print(f\"Best Random Forest Accuracy (sklearn): {best_accuracy_rf_sklearn}\")\n",
    "print(f\"Best Random Forest Parameters (sklearn): {best_hyperparameters_rf_sklearn}\")"
   ]
  },
  {
   "cell_type": "markdown",
   "metadata": {},
   "source": [
    "### Evaluating the results"
   ]
  },
  {
   "cell_type": "code",
   "execution_count": 305,
   "metadata": {},
   "outputs": [
    {
     "name": "stdout",
     "output_type": "stream",
     "text": [
      "Test accuracy DT (self): 0.7698412698412699\n",
      "Test accuracy DT (sklearn): 0.8253968253968254\n",
      "Test accuracy RF (self): 0.873015873015873\n",
      "Test accuracy RF (sklearn): 0.8571428571428571\n"
     ]
    }
   ],
   "source": [
    "print(f\"Test accuracy DT (self): {evaluate_model(DecisionTree, best_hyperparameters_dt_self)}\")\n",
    "print(f\"Test accuracy DT (sklearn): {evaluate_model(DecisionTreeClassifier, best_hyperparameters_dt_sklearn)}\")\n",
    "print(f\"Test accuracy RF (self): {evaluate_model(RandomForest, best_hyperparameters_rf_self)}\")\n",
    "print(f\"Test accuracy RF (sklearn): {evaluate_model(RandomForestClassifier, best_hyperparameters_rf_sklearn)}\")"
   ]
  },
  {
   "cell_type": "code",
   "execution_count": 302,
   "metadata": {},
   "outputs": [
    {
     "name": "stdout",
     "output_type": "stream",
     "text": [
      "======================================================================================================================================================\n",
      "Model                                   Best Hyperparameters                    CV Accuracy    Test Accuracy  \n",
      "======================================================================================================================================================\n",
      "Decision Tree (self)                    {'max_depth': 3, 'criterion': 'gini'}   0.7474         0.7698         \n",
      "\n",
      "Decision Tree (sklearn)                 {'max_depth': 5, 'criterion': 'entropy'}0.7683         0.8016         \n",
      "\n",
      "Random Forest (self)                    {'n_estimators': 5, 'max_depth': 3, 'max_features': None, 'criterion': 'entropy'}0.7646         0.8333         \n",
      "\n",
      "Random Forest (sklearn)                 {'n_estimators': 5, 'max_depth': 3, 'max_features': None, 'criterion': 'entropy'}0.7954         0.8413         \n",
      "======================================================================================================================================================\n"
     ]
    }
   ],
   "source": [
    "# Call the print function to compare results\n",
    "print_comparison_results(best_hyperparameters_dt_self, best_accuracy_dt_self, best_hyperparameters_dt_sklearn, best_accuracy_dt_sklearn, \n",
    "                         best_hyperparameters_rf_self, best_accuracy_rf_self, best_hyperparameters_rf_sklearn, best_accuracy_rf_sklearn,\n",
    "                         )"
   ]
  }
 ],
 "metadata": {
  "kernelspec": {
   "display_name": "INF264",
   "language": "python",
   "name": "python3"
  },
  "language_info": {
   "codemirror_mode": {
    "name": "ipython",
    "version": 3
   },
   "file_extension": ".py",
   "mimetype": "text/x-python",
   "name": "python",
   "nbconvert_exporter": "python",
   "pygments_lexer": "ipython3",
   "version": "3.12.2"
  }
 },
 "nbformat": 4,
 "nbformat_minor": 2
}
